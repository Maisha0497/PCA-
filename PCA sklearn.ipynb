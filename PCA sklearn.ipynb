{
  "nbformat": 4,
  "nbformat_minor": 0,
  "metadata": {
    "colab": {
      "provenance": []
    },
    "kernelspec": {
      "name": "python3",
      "display_name": "Python 3"
    }
  },
  "cells": [
    {
      "cell_type": "code",
      "metadata": {
        "id": "qwPIOYEURzzx"
      },
      "source": [
        "#1\n",
        "import matplotlib.pyplot as plt\n",
        "import numpy as np\n",
        "import pandas as pd\n",
        "%matplotlib inline\n",
        "\n",
        "from sklearn.preprocessing import StandardScaler\n",
        "\n",
        "from sklearn.decomposition import PCA"
      ],
      "execution_count": null,
      "outputs": []
    },
    {
      "cell_type": "code",
      "metadata": {
        "id": "-qqQkZ8p-n9F",
        "colab": {
          "base_uri": "https://localhost:8080/"
        },
        "outputId": "18401ff5-46e6-4754-eb38-8073bde18d25"
      },
      "source": [
        "#2\n",
        "df = pd.read_excel('/content/PCA2.xlsx', index_col='Index')\n",
        "df.info()\n"
      ],
      "execution_count": null,
      "outputs": [
        {
          "output_type": "stream",
          "text": [
            "<class 'pandas.core.frame.DataFrame'>\n",
            "Int64Index: 42 entries, 0 to 41\n",
            "Data columns (total 28 columns):\n",
            " #   Column                                       Non-Null Count  Dtype\n",
            "---  ------                                       --------------  -----\n",
            " 0   Respondents                                  42 non-null     int64\n",
            " 1   Age                                          42 non-null     int64\n",
            " 2   BodyWeight                                   42 non-null     int64\n",
            " 3   Working hours \n",
            "daily orweekly                42 non-null     int64\n",
            " 4   Quantity dismantled or \n",
            "recycled per day kg  42 non-null     int64\n",
            " 5   Smoking habit                                42 non-null     int64\n",
            " 6   Work place \n",
            "hygiene                          42 non-null     int64\n",
            " 7   Accident                                     42 non-null     int64\n",
            " 8   Violence or \n",
            "harrassment                     42 non-null     int64\n",
            " 9   Chronic disease                              42 non-null     int64\n",
            " 10  Change in stimuli                            42 non-null     int64\n",
            " 11  Unintentional \n",
            "weightloss                    42 non-null     int64\n",
            " 12  Loss of appetite                             42 non-null     int64\n",
            " 13  Insomnia                                     42 non-null     int64\n",
            " 14  Headache                                     42 non-null     int64\n",
            " 15  Dizziness and\n",
            " depression                    42 non-null     int64\n",
            " 16  Negative effecton\n",
            " family relationship       42 non-null     int64\n",
            " 17  Perceiving \n",
            "difficulties                     42 non-null     int64\n",
            " 18  Change in mood\n",
            " or temper                    42 non-null     int64\n",
            " 19  Stress due to \n",
            "employer decision             42 non-null     int64\n",
            " 20  Anxiety due to\n",
            " insufficient income          42 non-null     int64\n",
            " 21  Exposure to \n",
            "loud noise                      42 non-null     int64\n",
            " 22  Distraction\n",
            "or annoyance                     42 non-null     int64\n",
            " 23  Difficulties in hearing                      42 non-null     int64\n",
            " 24  Health issue \n",
            "due to loudnoise               42 non-null     int64\n",
            " 25  Habituated \n",
            "to loudnoise                     42 non-null     int64\n",
            " 26  Pain after \n",
            "working hours                    42 non-null     int64\n",
            " 27  Kind of injury                               42 non-null     int64\n",
            "dtypes: int64(28)\n",
            "memory usage: 9.5 KB\n"
          ],
          "name": "stdout"
        }
      ]
    },
    {
      "cell_type": "code",
      "metadata": {
        "colab": {
          "base_uri": "https://localhost:8080/"
        },
        "id": "6SVAEifDnxTq",
        "outputId": "4808b6bf-74f1-40a1-8e00-a7c92dcaedb0"
      },
      "source": [
        "df.drop(df.columns[[9,27]], axis = 1, inplace = True) \n",
        "df.info()"
      ],
      "execution_count": null,
      "outputs": [
        {
          "output_type": "stream",
          "text": [
            "<class 'pandas.core.frame.DataFrame'>\n",
            "Int64Index: 42 entries, 0 to 41\n",
            "Data columns (total 26 columns):\n",
            " #   Column                                       Non-Null Count  Dtype\n",
            "---  ------                                       --------------  -----\n",
            " 0   Respondents                                  42 non-null     int64\n",
            " 1   Age                                          42 non-null     int64\n",
            " 2   BodyWeight                                   42 non-null     int64\n",
            " 3   Working hours \n",
            "daily orweekly                42 non-null     int64\n",
            " 4   Quantity dismantled or \n",
            "recycled per day kg  42 non-null     int64\n",
            " 5   Smoking habit                                42 non-null     int64\n",
            " 6   Work place \n",
            "hygiene                          42 non-null     int64\n",
            " 7   Accident                                     42 non-null     int64\n",
            " 8   Violence or \n",
            "harrassment                     42 non-null     int64\n",
            " 9   Change in stimuli                            42 non-null     int64\n",
            " 10  Unintentional \n",
            "weightloss                    42 non-null     int64\n",
            " 11  Loss of appetite                             42 non-null     int64\n",
            " 12  Insomnia                                     42 non-null     int64\n",
            " 13  Headache                                     42 non-null     int64\n",
            " 14  Dizziness and\n",
            " depression                    42 non-null     int64\n",
            " 15  Negative effecton\n",
            " family relationship       42 non-null     int64\n",
            " 16  Perceiving \n",
            "difficulties                     42 non-null     int64\n",
            " 17  Change in mood\n",
            " or temper                    42 non-null     int64\n",
            " 18  Stress due to \n",
            "employer decision             42 non-null     int64\n",
            " 19  Anxiety due to\n",
            " insufficient income          42 non-null     int64\n",
            " 20  Exposure to \n",
            "loud noise                      42 non-null     int64\n",
            " 21  Distraction\n",
            "or annoyance                     42 non-null     int64\n",
            " 22  Difficulties in hearing                      42 non-null     int64\n",
            " 23  Health issue \n",
            "due to loudnoise               42 non-null     int64\n",
            " 24  Habituated \n",
            "to loudnoise                     42 non-null     int64\n",
            " 25  Pain after \n",
            "working hours                    42 non-null     int64\n",
            "dtypes: int64(26)\n",
            "memory usage: 8.9 KB\n"
          ],
          "name": "stdout"
        }
      ]
    },
    {
      "cell_type": "code",
      "metadata": {
        "id": "Unb_sNhx-3xC",
        "colab": {
          "base_uri": "https://localhost:8080/"
        },
        "outputId": "1c59ee42-1e9c-454f-e1a0-602131de7596"
      },
      "source": [
        "#4\n",
        "X_scaled = StandardScaler().fit_transform(df)\n",
        "X_scaled[:5]"
      ],
      "execution_count": null,
      "outputs": [
        {
          "output_type": "execute_result",
          "data": {
            "text/plain": [
              "array([[-1.69129096, -1.64758487, -2.35491605, -0.14433757,  1.00312234,\n",
              "        -1.21267813,  0.2773501 , -1.21267813, -0.82462113, -0.2236068 ,\n",
              "        -0.52223297, -1.46882498, -1.46050146,  2.68692583, -0.25756371,\n",
              "         2.09807752,  0.85982995,  0.48507125,  0.78824078,  0.79772404,\n",
              "         1.45229451,  0.07738232, -0.15617376,  0.        ,  0.48507125,\n",
              "        -1.41421356],\n",
              "       [-1.60878896, -1.53597428,  1.0973169 , -0.14433757, -0.43592308,\n",
              "         0.82462113,  0.2773501 ,  0.82462113,  1.21267813, -0.2236068 ,\n",
              "         1.91485422,  0.11298654, -0.12700013, -0.39082557, -1.45952771,\n",
              "        -1.47432474, -1.3288281 ,  0.48507125,  0.78824078,  0.79772404,\n",
              "        -0.03542182,  0.07738232, -0.15617376,  0.        ,  0.48507125,\n",
              "         0.70710678],\n",
              "       [-1.52628697, -1.53597428,  0.40687031, -1.15470054, -0.23034516,\n",
              "        -1.21267813,  0.2773501 , -1.21267813,  1.21267813, -0.2236068 ,\n",
              "        -0.52223297,  0.11298654, -0.12700013, -0.39082557,  0.94440028,\n",
              "         0.90727676,  0.85982995,  0.48507125,  0.78824078,  0.79772404,\n",
              "        -0.03542182,  0.07738232, -0.15617376,  0.        ,  0.48507125,\n",
              "         0.70710678],\n",
              "       [-1.44378497, -1.42436369, -1.14663452,  0.8660254 ,  0.59196651,\n",
              "         0.82462113,  0.2773501 ,  0.82462113, -0.82462113, -0.2236068 ,\n",
              "        -0.52223297,  0.11298654, -0.12700013, -0.39082557, -0.25756371,\n",
              "        -0.28352399, -0.23449908,  0.48507125,  0.78824078, -0.39886202,\n",
              "        -0.03542182,  0.07738232, -0.15617376,  0.        ,  0.48507125,\n",
              "         0.70710678],\n",
              "       [-1.36128297, -1.31275311, -0.97402287, -0.14433757, -0.641501  ,\n",
              "        -1.21267813,  0.2773501 ,  0.82462113, -0.82462113, -0.2236068 ,\n",
              "        -0.52223297,  0.11298654, -0.12700013, -0.39082557, -0.25756371,\n",
              "        -0.28352399, -0.23449908, -0.53357838, -1.75838328, -0.39886202,\n",
              "         1.45229451,  0.07738232, -0.15617376,  0.        ,  0.48507125,\n",
              "        -1.41421356]])"
            ]
          },
          "metadata": {
            "tags": []
          },
          "execution_count": 88
        }
      ]
    },
    {
      "cell_type": "code",
      "metadata": {
        "id": "F1fz3a1XSLgr",
        "colab": {
          "base_uri": "https://localhost:8080/",
          "height": 946
        },
        "outputId": "626718b6-7515-416f-c5c0-26f38e9d5165"
      },
      "source": [
        "#5\n",
        "pca=PCA(n_components=3)\n",
        "# pca=PCA()\n",
        "pca.fit(X_scaled)\n",
        "x_pca=pca.transform(df)\n",
        "print(x_pca)\n",
        "x_pca.shape\n",
        "df3 = pd.DataFrame(pca.components_, columns=list(df.columns))\n",
        "df3\n",
        "#pca.components_\n"
      ],
      "execution_count": null,
      "outputs": [
        {
          "output_type": "stream",
          "text": [
            "[[-9.54409824e+01 -2.01007071e+02  1.07096099e+02]\n",
            " [-1.86140212e+01 -6.32755544e+01  1.59493181e+01]\n",
            " [-2.85600009e+01 -8.36470292e+01  3.02587745e+01]\n",
            " [-7.28151316e+01 -1.59166483e+02  7.84573216e+01]\n",
            " [-6.96454946e+00 -3.89711634e+01  6.76795235e+00]\n",
            " [-4.03968959e+01 -1.00204615e+02  4.14041112e+01]\n",
            " [-9.56463360e+01 -2.00392228e+02  9.79107917e+01]\n",
            " [ 1.35244172e+01  2.27718759e-01 -1.72609734e+01]\n",
            " [-5.04014042e+01 -1.16750425e+02  5.19505390e+01]\n",
            " [-3.66124308e+01 -9.94926912e+01  4.02001174e+01]\n",
            " [-1.53972053e+01 -5.67950161e+01  1.96598131e+01]\n",
            " [-9.56620435e+01 -1.94587752e+02  1.02178094e+02]\n",
            " [-9.38937728e+01 -1.95787459e+02  9.82320174e+01]\n",
            " [-3.50112576e+01 -9.39901198e+01  3.79613665e+01]\n",
            " [-3.08259044e+02 -5.91829897e+02  3.35791415e+02]\n",
            " [-8.93220144e+01 -1.89695912e+02  9.91957418e+01]\n",
            " [-3.25022347e+01 -9.10434248e+01  4.01227935e+01]\n",
            " [-7.33737486e+01 -1.75389977e+02  8.22831802e+01]\n",
            " [-3.40863481e+01 -9.13792492e+01  3.69337231e+01]\n",
            " [-3.35098571e+01 -8.98071265e+01  3.67141405e+01]\n",
            " [ 1.17721336e+01 -1.00697806e+01 -1.21138448e+01]\n",
            " [ 3.08357919e+00 -2.98568266e+01 -1.66637327e+00]\n",
            " [-4.22303928e+01 -1.08638766e+02  4.69864764e+01]\n",
            " [ 1.04369086e+01 -7.76617376e+00 -1.24918540e+01]\n",
            " [ 1.54390439e+01 -8.46105879e+00 -1.19847465e+01]\n",
            " [-2.95706686e+01 -8.79492417e+01  3.49348442e+01]\n",
            " [ 1.59482372e+01 -7.75000184e+00 -1.23474523e+01]\n",
            " [-7.20467416e+01 -1.66632377e+02  8.36516431e+01]\n",
            " [-2.94164237e+01 -8.45274202e+01  3.42116840e+01]\n",
            " [ 4.37185404e+00 -2.76104038e+01 -3.41160504e+00]\n",
            " [-7.38064725e-01 -3.55925466e+01  3.51561916e+00]\n",
            " [-2.66997422e+01 -8.54447309e+01  3.32991175e+01]\n",
            " [ 1.87169660e+01 -5.25088462e+00 -1.57457398e+01]\n",
            " [ 1.93385563e+01 -4.99466168e+00 -1.54017969e+01]\n",
            " [-2.91395146e+01 -7.95831132e+01  3.49288411e+01]\n",
            " [ 9.85716450e+00 -2.34329135e+01 -4.41868044e+00]\n",
            " [ 1.61352623e+01 -1.34485006e+01 -1.10973810e+01]\n",
            " [ 2.74226682e+00 -3.15479920e+01  3.91907350e-01]\n",
            " [ 4.27712233e+00 -2.87822514e+01  1.57298040e+00]\n",
            " [-2.40486794e+01 -7.58175452e+01  3.51548297e+01]\n",
            " [-3.37884438e+01 -9.55576779e+01  4.24794709e+01]\n",
            " [ 1.35131058e+00 -3.19882086e+01  1.12771565e+01]]\n"
          ],
          "name": "stdout"
        },
        {
          "output_type": "execute_result",
          "data": {
            "text/html": [
              "<div>\n",
              "<style scoped>\n",
              "    .dataframe tbody tr th:only-of-type {\n",
              "        vertical-align: middle;\n",
              "    }\n",
              "\n",
              "    .dataframe tbody tr th {\n",
              "        vertical-align: top;\n",
              "    }\n",
              "\n",
              "    .dataframe thead th {\n",
              "        text-align: right;\n",
              "    }\n",
              "</style>\n",
              "<table border=\"1\" class=\"dataframe\">\n",
              "  <thead>\n",
              "    <tr style=\"text-align: right;\">\n",
              "      <th></th>\n",
              "      <th>Respondents</th>\n",
              "      <th>Age</th>\n",
              "      <th>BodyWeight</th>\n",
              "      <th>Working hours \\ndaily orweekly</th>\n",
              "      <th>Quantity dismantled or \\nrecycled per day kg</th>\n",
              "      <th>Smoking habit</th>\n",
              "      <th>Work place \\nhygiene</th>\n",
              "      <th>Accident</th>\n",
              "      <th>Violence or \\nharrassment</th>\n",
              "      <th>Change in stimuli</th>\n",
              "      <th>Unintentional \\nweightloss</th>\n",
              "      <th>Loss of appetite</th>\n",
              "      <th>Insomnia</th>\n",
              "      <th>Headache</th>\n",
              "      <th>Dizziness and\\n depression</th>\n",
              "      <th>Negative effecton\\n family relationship</th>\n",
              "      <th>Perceiving \\ndifficulties</th>\n",
              "      <th>Change in mood\\n or temper</th>\n",
              "      <th>Stress due to \\nemployer decision</th>\n",
              "      <th>Anxiety due to\\n insufficient income</th>\n",
              "      <th>Exposure to \\nloud noise</th>\n",
              "      <th>Distraction\\nor annoyance</th>\n",
              "      <th>Difficulties in hearing</th>\n",
              "      <th>Health issue \\ndue to loudnoise</th>\n",
              "      <th>Habituated \\nto loudnoise</th>\n",
              "      <th>Pain after \\nworking hours</th>\n",
              "    </tr>\n",
              "  </thead>\n",
              "  <tbody>\n",
              "    <tr>\n",
              "      <th>0</th>\n",
              "      <td>0.254597</td>\n",
              "      <td>0.252231</td>\n",
              "      <td>0.058510</td>\n",
              "      <td>0.265660</td>\n",
              "      <td>-0.110086</td>\n",
              "      <td>-0.086844</td>\n",
              "      <td>-0.070006</td>\n",
              "      <td>0.157172</td>\n",
              "      <td>0.278334</td>\n",
              "      <td>0.117737</td>\n",
              "      <td>0.051291</td>\n",
              "      <td>0.058134</td>\n",
              "      <td>0.225563</td>\n",
              "      <td>0.274946</td>\n",
              "      <td>0.325460</td>\n",
              "      <td>0.249743</td>\n",
              "      <td>0.350887</td>\n",
              "      <td>0.183497</td>\n",
              "      <td>0.144132</td>\n",
              "      <td>0.286654</td>\n",
              "      <td>0.153065</td>\n",
              "      <td>0.074169</td>\n",
              "      <td>-0.147737</td>\n",
              "      <td>0.000000e+00</td>\n",
              "      <td>0.213732</td>\n",
              "      <td>0.003231</td>\n",
              "    </tr>\n",
              "    <tr>\n",
              "      <th>1</th>\n",
              "      <td>0.355528</td>\n",
              "      <td>0.375993</td>\n",
              "      <td>-0.175415</td>\n",
              "      <td>0.072582</td>\n",
              "      <td>-0.198850</td>\n",
              "      <td>0.274618</td>\n",
              "      <td>-0.093997</td>\n",
              "      <td>0.327147</td>\n",
              "      <td>-0.060243</td>\n",
              "      <td>0.176381</td>\n",
              "      <td>0.145982</td>\n",
              "      <td>-0.190528</td>\n",
              "      <td>-0.105480</td>\n",
              "      <td>-0.192621</td>\n",
              "      <td>-0.098251</td>\n",
              "      <td>0.045258</td>\n",
              "      <td>-0.108789</td>\n",
              "      <td>-0.049653</td>\n",
              "      <td>-0.267766</td>\n",
              "      <td>-0.269192</td>\n",
              "      <td>-0.087994</td>\n",
              "      <td>-0.240345</td>\n",
              "      <td>-0.088261</td>\n",
              "      <td>0.000000e+00</td>\n",
              "      <td>0.134348</td>\n",
              "      <td>-0.251554</td>\n",
              "    </tr>\n",
              "    <tr>\n",
              "      <th>2</th>\n",
              "      <td>-0.181353</td>\n",
              "      <td>-0.108140</td>\n",
              "      <td>-0.242435</td>\n",
              "      <td>-0.214214</td>\n",
              "      <td>0.119783</td>\n",
              "      <td>-0.195008</td>\n",
              "      <td>-0.005417</td>\n",
              "      <td>-0.068796</td>\n",
              "      <td>0.009807</td>\n",
              "      <td>0.266038</td>\n",
              "      <td>-0.122494</td>\n",
              "      <td>-0.371082</td>\n",
              "      <td>-0.386273</td>\n",
              "      <td>-0.189152</td>\n",
              "      <td>-0.032029</td>\n",
              "      <td>0.262496</td>\n",
              "      <td>0.099161</td>\n",
              "      <td>0.262648</td>\n",
              "      <td>0.110035</td>\n",
              "      <td>0.078145</td>\n",
              "      <td>0.299141</td>\n",
              "      <td>0.071817</td>\n",
              "      <td>-0.136486</td>\n",
              "      <td>-1.577722e-30</td>\n",
              "      <td>0.174908</td>\n",
              "      <td>-0.272446</td>\n",
              "    </tr>\n",
              "  </tbody>\n",
              "</table>\n",
              "</div>"
            ],
            "text/plain": [
              "   Respondents       Age  ...  Habituated \\nto loudnoise  Pain after \\nworking hours\n",
              "0     0.254597  0.252231  ...                   0.213732                    0.003231\n",
              "1     0.355528  0.375993  ...                   0.134348                   -0.251554\n",
              "2    -0.181353 -0.108140  ...                   0.174908                   -0.272446\n",
              "\n",
              "[3 rows x 26 columns]"
            ]
          },
          "metadata": {
            "tags": []
          },
          "execution_count": 89
        }
      ]
    },
    {
      "cell_type": "code",
      "metadata": {
        "id": "jQx217xKLii2"
      },
      "source": [
        "df3.to_csv('file1.csv') "
      ],
      "execution_count": null,
      "outputs": []
    },
    {
      "cell_type": "code",
      "metadata": {
        "colab": {
          "base_uri": "https://localhost:8080/",
          "height": 136
        },
        "id": "kuUKqPB3OX8I",
        "outputId": "5f009240-3181-4f99-963b-ddaa026f1067"
      },
      "source": [
        "# number of components\n",
        "n_pcs=pca.components_.shape[0]\n",
        "\n",
        "# get the index of the most important feature on EACH component\n",
        "# LIST COMPREHENSION HERE\n",
        "most_important = [np.abs(pca.components_[i]).argmax() for i in range(n_pcs)]\n",
        "\n",
        "initial_feature_names = list(df.columns)\n",
        "# get the names\n",
        "most_important_names = [initial_feature_names[most_important[i]] for i in range(n_pcs)]\n",
        "\n",
        "# LIST COMPREHENSION HERE AGAIN\n",
        "dic = {'PC{}'.format(i): most_important_names[i] for i in range(n_pcs)}\n",
        "\n",
        "# build the dataframe\n",
        "df4 = pd.DataFrame(dic.items())\n",
        "df4"
      ],
      "execution_count": null,
      "outputs": [
        {
          "output_type": "execute_result",
          "data": {
            "text/html": [
              "<div>\n",
              "<style scoped>\n",
              "    .dataframe tbody tr th:only-of-type {\n",
              "        vertical-align: middle;\n",
              "    }\n",
              "\n",
              "    .dataframe tbody tr th {\n",
              "        vertical-align: top;\n",
              "    }\n",
              "\n",
              "    .dataframe thead th {\n",
              "        text-align: right;\n",
              "    }\n",
              "</style>\n",
              "<table border=\"1\" class=\"dataframe\">\n",
              "  <thead>\n",
              "    <tr style=\"text-align: right;\">\n",
              "      <th></th>\n",
              "      <th>0</th>\n",
              "      <th>1</th>\n",
              "    </tr>\n",
              "  </thead>\n",
              "  <tbody>\n",
              "    <tr>\n",
              "      <th>0</th>\n",
              "      <td>PC0</td>\n",
              "      <td>Perceiving \\ndifficulties</td>\n",
              "    </tr>\n",
              "    <tr>\n",
              "      <th>1</th>\n",
              "      <td>PC1</td>\n",
              "      <td>Age</td>\n",
              "    </tr>\n",
              "    <tr>\n",
              "      <th>2</th>\n",
              "      <td>PC2</td>\n",
              "      <td>Insomnia</td>\n",
              "    </tr>\n",
              "  </tbody>\n",
              "</table>\n",
              "</div>"
            ],
            "text/plain": [
              "     0                          1\n",
              "0  PC0  Perceiving \\ndifficulties\n",
              "1  PC1                        Age\n",
              "2  PC2                   Insomnia"
            ]
          },
          "metadata": {
            "tags": []
          },
          "execution_count": 90
        }
      ]
    },
    {
      "cell_type": "code",
      "metadata": {
        "id": "wORnqKHkOmgM"
      },
      "source": [
        "df4.to_csv('file2.csv') "
      ],
      "execution_count": null,
      "outputs": []
    },
    {
      "cell_type": "code",
      "metadata": {
        "colab": {
          "base_uri": "https://localhost:8080/"
        },
        "id": "arEbQtnGWUxx",
        "outputId": "fe2d2a14-9f08-4091-b296-05b671380563"
      },
      "source": [
        "print ( \"Components = \", pca.n_components_ , \";\\nTotal explained variance = \",\n",
        "      round(pca.explained_variance_ratio_.sum(),5),\n",
        "      pca.explained_variance_ratio_)"
      ],
      "execution_count": null,
      "outputs": [
        {
          "output_type": "stream",
          "text": [
            "Components =  3 ;\n",
            "Total explained variance =  0.39867 [0.18215955 0.11108631 0.10542336]\n"
          ],
          "name": "stdout"
        }
      ]
    },
    {
      "cell_type": "code",
      "metadata": {
        "id": "ZL6TA7eIei2E"
      },
      "source": [
        "lst=list(df.columns.values.tolist()) "
      ],
      "execution_count": null,
      "outputs": []
    },
    {
      "cell_type": "code",
      "metadata": {
        "colab": {
          "base_uri": "https://localhost:8080/",
          "height": 35
        },
        "id": "oDyzu-yBibNF",
        "outputId": "58a8b598-4419-4ae0-e764-7ed549e6a986"
      },
      "source": [
        "lst[27]"
      ],
      "execution_count": null,
      "outputs": [
        {
          "output_type": "execute_result",
          "data": {
            "application/vnd.google.colaboratory.intrinsic+json": {
              "type": "string"
            },
            "text/plain": [
              "'Kind of injury'"
            ]
          },
          "metadata": {
            "tags": []
          },
          "execution_count": 71
        }
      ]
    },
    {
      "cell_type": "code",
      "metadata": {
        "id": "78D5Ylh0ZtE_",
        "colab": {
          "base_uri": "https://localhost:8080/",
          "height": 729
        },
        "outputId": "893b968f-0640-468f-d378-730a79e73720"
      },
      "source": [
        "#6\n",
        "def myplot(score,coeff,labels=None):\n",
        "    plt.figure(figsize=(18,10))\n",
        "    xs = score[:,0]\n",
        "    ys = score[:,1]\n",
        "    n = coeff.shape[0]\n",
        "    scalex = 1.0/(xs.max() - xs.min())\n",
        "    scaley = 1.0/(ys.max() - ys.min())\n",
        "    plt.scatter(xs * scalex*1.75,ys * scaley*2)\n",
        "    for i in range(n):\n",
        "        plt.arrow(0, 0, coeff[i,0]*2.275, coeff[i,1]*2.275, color = 'r',alpha = 0.5, )\n",
        "        if labels is None:\n",
        "            plt.text(coeff[i,0]* 2.5, coeff[i,1] *2.5, \"Var\"+str(i+1), color = 'g', ha = 'center', va = 'center')\n",
        "            #plt.text(coeff[i,0]* 2.5, coeff[i,1] *2.5, str(lst[i]), color = 'g', ha = 'center', va = 'center')\n",
        "        else:\n",
        "            plt.text(coeff[i,0]* 2.5, coeff[i,1] * 2.5, labels[i], color = 'g', ha = 'center', va = 'center')\n",
        "    plt.xlim(-1,1)\n",
        "    plt.ylim(-1,1)\n",
        "    plt.xlabel(\"PC{}\".format(1))\n",
        "    plt.ylabel(\"PC{}\".format(2))\n",
        "    plt.grid()\n",
        "    plt.title('Biplot', fontdict = {'fontsize' : 20})\n",
        "    plt.tight_layout()\n",
        "\n",
        "    return\n",
        "#Call the function. Use only the 2 PCs.\n",
        "myplot(x_pca[:,0:2],np.transpose(pca.components_[0:2, :]))\n",
        "# plt.savefig('/content/drive/Shared drives/Monami-Extra Space/Suhi Apu/PCA.jpg')\n",
        "plt.show()"
      ],
      "execution_count": null,
      "outputs": [
        {
          "output_type": "display_data",
          "data": {
            "image/png": "[encoded data removed]",
            "text/plain": [
              "<Figure size 1296x720 with 1 Axes>"
            ]
          },
          "metadata": {
            "tags": [],
            "needs_background": "light"
          }
        }
      ]
    }
  ]
}